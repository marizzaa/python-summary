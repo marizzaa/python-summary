{
 "cells": [
  {
   "cell_type": "markdown",
   "metadata": {},
   "source": [
    "# What is Python?\n",
    "\n",
    "Python is a popular programming language. It was created by **Guido van Rossum**, and released in **1991**.\n",
    "\n",
    "It is used for:\n",
    "\n",
    "- Web development (server-side)\n",
    "- Software development\n",
    "- Mathematics\n",
    "- System scripting\n",
    "\n",
    "\n",
    "\n",
    "\n",
    "\n"
   ]
  },
  {
   "cell_type": "markdown",
   "metadata": {},
   "source": [
    "## What can Python do?\n",
    "\n",
    "- Python can be used on a server to create web applications.\n",
    "- Python can be used alongside software to create workflows.\n",
    "- Python can connect to database systems. It can also read and modify files.\n",
    "- Python can handle big data and perform complex mathematics.\n",
    "- Python can be used for rapid prototyping or for production-ready software development."
   ]
  },
  {
   "cell_type": "markdown",
   "metadata": {},
   "source": [
    "## Why Python?\n",
    "\n",
    "- Python works on different platforms (Windows, Mac, Linux, Raspberry Pi, etc.).\n",
    "- Python has a simple syntax similar to the English language.\n",
    "- Python's syntax allows developers to write programs with fewer lines than some other programming languages.\n",
    "- Python runs on an interpreter system, meaning code can be executed as soon as it is written, making prototyping very quick.\n",
    "- Python can be treated in a **procedural**, **object-oriented**, or **functional** way."
   ]
  },
  {
   "cell_type": "markdown",
   "metadata": {},
   "source": [
    "\n",
    "## Good to Know\n",
    "\n",
    "- The most recent major version of Python is **Python 3**, which we shall use in this tutorial. \n",
    "- **Python 2**, while not being updated with new features (only security updates), is still popular.\n",
    "- In this tutorial, Python will be written in a text editor. However, it is also possible to write Python in an Integrated Development Environment (IDE), such as **Thonny**, **PyCharm**, **NetBeans**, or **Eclipse**, which are particularly useful for managing larger collections of Python files."
   ]
  },
  {
   "cell_type": "markdown",
   "metadata": {},
   "source": [
    "\n",
    "## Python Syntax Compared to Other Programming Languages\n",
    "\n",
    "- Python was designed for readability and has similarities to the English language, with influence from mathematics.\n",
    "- Python uses new lines to complete commands, unlike other programming languages that often use semicolons or parentheses.\n",
    "- Python relies on **indentation** using whitespace to define scope, such as the scope of loops, functions, and classes. Other programming languages often use curly brackets for this purpose.\n"
   ]
  }
 ],
 "metadata": {
  "language_info": {
   "name": "python"
  }
 },
 "nbformat": 4,
 "nbformat_minor": 2
}
